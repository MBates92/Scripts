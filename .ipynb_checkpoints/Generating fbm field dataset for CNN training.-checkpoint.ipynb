{
 "cells": [
  {
   "cell_type": "code",
   "execution_count": 1,
   "metadata": {},
   "outputs": [],
   "source": [
    "import numpy as np\n",
    "import matplotlib.pyplot as plt\n",
    "import SpectralSynthesis as ss\n",
    "import pickle\n",
    "from tqdm import tqdm"
   ]
  },
  {
   "cell_type": "code",
   "execution_count": 2,
   "metadata": {},
   "outputs": [],
   "source": [
    "N_X = 22000\n",
    "H_RANGE = [0,1]\n",
    "S_RANGE = [0,3]\n",
    "N_PIX = 128\n",
    "E_DIMENSIONS = 2\n",
    "\n",
    "PERIODIC = False\n",
    "NOISE = True\n",
    "EXP = True"
   ]
  },
  {
   "cell_type": "code",
   "execution_count": 3,
   "metadata": {},
   "outputs": [],
   "source": [
    "H_list = np.random.uniform(H_RANGE[0], H_RANGE[1], N_X)\n",
    "S_list = np.random.uniform(S_RANGE[0], S_RANGE[1], N_X)\n",
    "noise_pct_list = np.random.random(N_X)*0.01"
   ]
  },
  {
   "cell_type": "code",
   "execution_count": null,
   "metadata": {},
   "outputs": [
    {
     "data": {
      "text/plain": [
       "array([0.60691589, 1.23981844, 0.00815993])"
      ]
     },
     "execution_count": 4,
     "metadata": {},
     "output_type": "execute_result"
    }
   ],
   "source": [
    "parameters = np.array([H_list, S_list, noise_pct_list]).T\n",
    "parameters[0]"
   ]
  },
  {
   "cell_type": "code",
   "execution_count": null,
   "metadata": {},
   "outputs": [
    {
     "name": "stderr",
     "output_type": "stream",
     "text": [
      "  0%|                                                                                        | 0/22000 [00:00<?, ?it/s]C:\\Users\\C1764397\\Workshop\\PhD\\Scripts\\SpectralSynthesis.py:58: RuntimeWarning: divide by zero encountered in power\n",
      "  rad = np.where(k>0.0,k**(-(beta*0.5)),0.0)\n",
      "  8%|██████▎                                                                      | 1819/22000 [03:30<37:28,  8.98it/s]"
     ]
    }
   ],
   "source": [
    "def generate_data(parameter, N_PIX, PERIODIC, EXP):\n",
    "    H,S,NOISE_FRACTION=parameter\n",
    "    if PERIODIC:\n",
    "        field = ss.fBm(E=E_DIMENSIONS,exp=EXP,H=H,sigma=S,N=N_PIX, centred = False)\n",
    "    else:\n",
    "        field = ss.fBm(E=E_DIMENSIONS,exp=EXP,H=H,sigma = S, N=N_PIX*4, centred=False)\n",
    "        field = field[int((N_PIX*4-N_PIX)/2):int((N_PIX*4+N_PIX)/2),int((N_PIX*4-N_PIX)/2):int((N_PIX*4+N_PIX)/2)]\n",
    "\n",
    "    m_1_field = np.mean(field)\n",
    "    s_1_field = np.std(field)\n",
    "    m_2_field = 0\n",
    "    s_2_field = 1/4\n",
    "\n",
    "    field *= s_2_field/s_1_field\n",
    "    field += (m_2_field-m_1_field*s_2_field/s_1_field)\n",
    "\n",
    "    if NOISE:\n",
    "        noise = ss.fBm(E=E_DIMENSIONS,exp=False,H=-1,N=N_PIX)\n",
    "\n",
    "        m_1_noise = np.mean(noise)\n",
    "        s_1_noise = np.std(noise)\n",
    "        m_2_noise = 0\n",
    "        s_2_noise = s_2_field*NOISE_FRACTION\n",
    "\n",
    "        noise *= s_2_noise/s_1_noise\n",
    "        noise += (m_2_noise-m_1_noise*s_2_noise/s_1_noise)\n",
    "\n",
    "        field += noise\n",
    "\n",
    "    m_1_field = np.mean(field)\n",
    "    s_1_field = np.std(field)\n",
    "    m_2_field = 0\n",
    "    s_2_field = 1/4\n",
    "\n",
    "    field *= s_2_field/s_1_field\n",
    "    field += (m_2_field-m_1_field*s_2_field/s_1_field)\n",
    "\n",
    "    field[np.where(field>1.)] = 1.\n",
    "    field[np.where(field<-1.)] = -1.\n",
    "\n",
    "    field1 = (field-np.min(field))/(np.max(field)-np.min(field))\n",
    "    field2 = np.rot90(field1)\n",
    "    field3 = np.rot90(field2)\n",
    "    field4 = np.rot90(field3)\n",
    "    \n",
    "    return [(field1,parameter),(field2,parameter),(field3,parameter),(field4,parameter)]\n",
    "\n",
    "#DATA = []\n",
    "#for parameter in tqdm(parameters):\n",
    "#    field_list = generate_data(parameter,N_PIX,PERIODIC,EXP)\n",
    "#    for datum in field_list:\n",
    "#        DATA.append(datum)\n",
    "\n",
    "DATA = [datum for parameter in tqdm(parameters) for datum in generate_data(parameter,N_PIX,PERIODIC,EXP)]\n",
    "\n",
    "DATA"
   ]
  },
  {
   "cell_type": "code",
   "execution_count": null,
   "metadata": {},
   "outputs": [],
   "source": [
    "plt.imshow(DATA[1][0])"
   ]
  },
  {
   "cell_type": "code",
   "execution_count": null,
   "metadata": {},
   "outputs": [],
   "source": [
    "import random\n",
    "\n",
    "random.shuffle(DATA)\n",
    "\n",
    "plt.imshow(DATA[1][0])"
   ]
  },
  {
   "cell_type": "code",
   "execution_count": null,
   "metadata": {},
   "outputs": [],
   "source": [
    "X = []\n",
    "H = []\n",
    "S = []\n",
    "noise = []\n",
    "for datum in tqdm(DATA):\n",
    "    X.append(datum[0])\n",
    "    H.append(datum[1][0])\n",
    "    S.append(datum[1][1])\n",
    "    noise.append(datum[1][2])\n",
    "    \n",
    "y = [H,S,noise]\n",
    "    \n",
    "X = np.array(X).reshape(-1, N_PIX, N_PIX, 1)\n",
    "X"
   ]
  },
  {
   "cell_type": "code",
   "execution_count": null,
   "metadata": {},
   "outputs": [],
   "source": [
    "X.shape"
   ]
  },
  {
   "cell_type": "code",
   "execution_count": null,
   "metadata": {},
   "outputs": [],
   "source": [
    "y"
   ]
  },
  {
   "cell_type": "code",
   "execution_count": null,
   "metadata": {},
   "outputs": [],
   "source": [
    "import time\n",
    "from tensorflow.keras.models import Sequential, Model\n",
    "from tensorflow.keras.layers import Dense, Dropout, Activation, Flatten\n",
    "from tensorflow.keras.layers import Conv2D, MaxPooling2D, Input\n",
    "from tensorflow.keras.callbacks import TensorBoard"
   ]
  },
  {
   "cell_type": "code",
   "execution_count": null,
   "metadata": {},
   "outputs": [],
   "source": [
    "layer_size = 512\n",
    "kernel_size = (3,3)\n",
    "epochs = 200\n",
    "\n",
    "NAME = \"5-conv-{}-channels-5-dense-{}-epochs\".format(layer_size,epochs)\n",
    "print(NAME)\n",
    "\n",
    "inp =  Input(shape = X.shape[1:])\n",
    "\n",
    "conv1 = Conv2D(layer_size, kernel_size, activation = 'relu')(inp)\n",
    "pool1 = MaxPooling2D(pool_size = (2,2))(conv1)\n",
    "\n",
    "conv2 = Conv2D(layer_size, kernel_size, activation = 'relu')(pool1)\n",
    "pool2 = MaxPooling2D(pool_size = (2,2))(conv2) \n",
    "\n",
    "conv3 = Conv2D(layer_size, kernel_size, activation = 'relu')(pool2)\n",
    "pool3 = MaxPooling2D(pool_size = (2,2))(conv3)\n",
    "\n",
    "conv4 = Conv2D(layer_size, kernel_size, activation = 'relu')(pool3)\n",
    "pool4 = MaxPooling2D(pool_size = (2,2))(conv4)\n",
    "\n",
    "conv5 = Conv2D(layer_size, kernel_size, activation = 'relu')(pool4)\n",
    "pool5 = MaxPooling2D(pool_size = (2,2))(conv5)\n",
    "\n",
    "flat1 = Flatten()(pool5)\n",
    "\n",
    "dense1 = Dense(layer_size)(flat1)\n",
    "dense2 = Dense(layer_size)(dense1)\n",
    "dense3 = Dense(layer_size)(dense2)\n",
    "dense4 = Dense(layer_size)(dense3)\n",
    "dense5 = Dense(layer_size)(dense4)\n",
    "\n",
    "out_H = Dense(1)(dense5)\n",
    "out_sigma = Dense(1)(dense5)\n",
    "out_noise = Dense(1)(dense5)\n",
    "\n",
    "model = Model(inp, [out_H,out_sigma,out_noise])\n",
    "\n",
    "tensorboard = TensorBoard(log_dir=\"logs/{}\".format(NAME))\n",
    "\n",
    "model.compile(loss='mse', optimizer = 'rmsprop', metrics=['accuracy'])\n",
    "model.fit(X,y, batch_size=32, epochs=epochs, validation_split = 0.3,\n",
    "          callbacks=[tensorboard])"
   ]
  },
  {
   "cell_type": "code",
   "execution_count": null,
   "metadata": {},
   "outputs": [],
   "source": []
  }
 ],
 "metadata": {
  "kernelspec": {
   "display_name": "Python 3",
   "language": "python",
   "name": "python3"
  },
  "language_info": {
   "codemirror_mode": {
    "name": "ipython",
    "version": 3
   },
   "file_extension": ".py",
   "mimetype": "text/x-python",
   "name": "python",
   "nbconvert_exporter": "python",
   "pygments_lexer": "ipython3",
   "version": "3.6.3"
  }
 },
 "nbformat": 4,
 "nbformat_minor": 2
}
