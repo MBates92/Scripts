{
 "cells": [
  {
   "cell_type": "code",
   "execution_count": 2,
   "metadata": {},
   "outputs": [],
   "source": [
    "import numpy as np\n",
    "import matplotlib.pyplot as plt\n",
    "import SpectralSynthesis as ss\n",
    "import DeltaVar as dv"
   ]
  },
  {
   "cell_type": "code",
   "execution_count": 5,
   "metadata": {},
   "outputs": [],
   "source": [
    "deltavar_s1 = np.loadtxt('../Data/H_estVSsigma/deltavar_s1.txt')\n",
    "deltavar_s2 = np.loadtxt('../Data/H_estVSsigma/deltavar_s2.txt')\n",
    "deltavar_s3 = np.loadtxt('../Data/H_estVSsigma/deltavar_s3.txt')\n",
    "L = np.loadtxt('../Data/H_estVSsigma/L.txt')\n",
    "sigma = np.loadtxt('../Data/H_estVSsigma/sigma.txt')"
   ]
  },
  {
   "cell_type": "code",
   "execution_count": 6,
   "metadata": {},
   "outputs": [],
   "source": [
    "params_s1 = []\n",
    "params_s2 = []\n",
    "params_s3 = []\n",
    "for i in range(len(sigma)):\n",
    "    params_s1.append(dv.HurstEstimator(deltavar_s1[i,:],L))\n",
    "    params_s2.append(dv.HurstEstimator(deltavar_s2[i,:],L))\n",
    "    params_s3.append(dv.HurstEstimator(deltavar_s3[i,:],L))\n",
    "params_s1 = np.asarray(params_s1)\n",
    "params_s2 = np.asarray(params_s2)\n",
    "params_s3 = np.asarray(params_s3)"
   ]
  },
  {
   "cell_type": "code",
   "execution_count": 7,
   "metadata": {},
   "outputs": [],
   "source": [
    "H_est_s1 = params_s1[:,0,0]\n",
    "H_std_s1 = params_s1[:,0,1]\n",
    "\n",
    "H_est_s2 = params_s2[:,0,0]\n",
    "H_std_s2 = params_s2[:,0,1]\n",
    "\n",
    "H_est_s3 = params_s3[:,0,0]\n",
    "H_std_s3 = params_s3[:,0,1]"
   ]
  },
  {
   "cell_type": "code",
   "execution_count": 8,
   "metadata": {},
   "outputs": [],
   "source": [
    "H_est_mean_s1 = np.mean(H_est_s1)\n",
    "H_est_mean_s2 = np.mean(H_est_s2)\n",
    "H_est_mean_s3 = np.mean(H_est_s3)"
   ]
  },
  {
   "cell_type": "code",
   "execution_count": 9,
   "metadata": {},
   "outputs": [],
   "source": [
    "H_std_mean_s1 = np.sqrt(np.mean(H_std_s1**2))\n",
    "H_std_mean_s2 = np.sqrt(np.mean(H_std_s2**2))\n",
    "H_std_mean_s3 = np.sqrt(np.mean(H_std_s3**2))"
   ]
  },
  {
   "cell_type": "code",
   "execution_count": 10,
   "metadata": {},
   "outputs": [
    {
     "name": "stdout",
     "output_type": "stream",
     "text": [
      "-0.00410374855536$\\pm$0.000536276332494\n",
      "0.493257215388$\\pm$0.000623923646138\n",
      "0.82894428015$\\pm$0.00166490915985\n"
     ]
    }
   ],
   "source": [
    "print(str(H_est_mean_s1)+r'$\\pm$'+str(H_std_mean_s1))\n",
    "print(str(H_est_mean_s2)+r'$\\pm$'+str(H_std_mean_s2))\n",
    "print(str(H_est_mean_s3)+r'$\\pm$'+str(H_std_mean_s3))"
   ]
  },
  {
   "cell_type": "code",
   "execution_count": 18,
   "metadata": {},
   "outputs": [],
   "source": [
    "H_est_s1 = np.array([H_est_s1])\n",
    "H_est_s2 = np.array([H_est_s2])\n",
    "H_est_s3 = np.array([H_est_s3])\n",
    "\n",
    "H_std_s1 = np.array([H_std_s1])\n",
    "H_std_s2 = np.array([H_std_s2])\n",
    "H_std_s3 = np.array([H_std_s3])"
   ]
  },
  {
   "cell_type": "code",
   "execution_count": 27,
   "metadata": {},
   "outputs": [
    {
     "name": "stdout",
     "output_type": "stream",
     "text": [
      "(100, 3, 2)\n"
     ]
    }
   ],
   "source": [
    "print(np.shape(params_s1))"
   ]
  },
  {
   "cell_type": "code",
   "execution_count": 26,
   "metadata": {},
   "outputs": [],
   "source": [
    "np.savetxt('../Data/H_estVSsigma/H_est_s1.txt', np.concatenate((H_est_s1.T,H_std_s1.T),1), header = 'The delta variance for H=0.0')\n",
    "np.savetxt('../Data/H_estVSsigma/H_est_s2.txt', np.concatenate((H_est_s2.T,H_std_s2.T),1), header = 'The delta variance for H=0.5')\n",
    "np.savetxt('../Data/H_estVSsigma/H_est_s3.txt', np.concatenate((H_est_s3.T,H_std_s3.T),1), header = 'The delta variance for H=1.0')\n",
    "np.savetxt('../Data/H_estVSsigma/params_s1.txt', params_s1, header = 'The delta variance for H=0.0')\n",
    "np.savetxt('../Data/H_estVSsigma/params_s2.txt', params_s2, header = 'The delta variance for H=0.5')\n",
    "np.savetxt('../Data/H_estVSsigma/params_s3.txt', params_s3, header = 'The delta variance for H=1.0')"
   ]
  },
  {
   "cell_type": "code",
   "execution_count": null,
   "metadata": {},
   "outputs": [],
   "source": []
  }
 ],
 "metadata": {
  "kernelspec": {
   "display_name": "Python 3",
   "language": "python",
   "name": "python3"
  },
  "language_info": {
   "codemirror_mode": {
    "name": "ipython",
    "version": 3
   },
   "file_extension": ".py",
   "mimetype": "text/x-python",
   "name": "python",
   "nbconvert_exporter": "python",
   "pygments_lexer": "ipython3",
   "version": "3.6.3"
  }
 },
 "nbformat": 4,
 "nbformat_minor": 2
}
