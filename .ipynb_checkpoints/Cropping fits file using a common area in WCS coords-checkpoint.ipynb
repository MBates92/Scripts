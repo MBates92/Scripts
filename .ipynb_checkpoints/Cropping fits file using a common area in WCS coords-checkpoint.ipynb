{
 "cells": [
  {
   "cell_type": "code",
   "execution_count": 26,
   "metadata": {},
   "outputs": [],
   "source": [
    "import numpy as np\n",
    "import matplotlib.pyplot as plt\n",
    "from astropy.io import fits\n",
    "import os\n",
    "from astropy.wcs import WCS\n",
    "from reproject import reproject_interp, reproject_exact\n",
    "from astropy.nddata import Cutout2D\n",
    "from astropy import units as u\n",
    "from astropy.coordinates import SkyCoord\n",
    "from astropy.coordinates import Galactic"
   ]
  },
  {
   "cell_type": "code",
   "execution_count": 27,
   "metadata": {},
   "outputs": [
    {
     "name": "stdout",
     "output_type": "stream",
     "text": [
      "['Reprojected_l217_cdens.fits', 'Reprojected_l217_PACS_160.fits', 'Reprojected_l217_PACS_70.fits', 'Reprojected_l217_SPIRE_250.fits', 'Reprojected_l217_SPIRE_350.fits', 'Reprojected_l217_SPIRE_500.fits', 'Reprojected_l217_temp.fits']\n"
     ]
    }
   ],
   "source": [
    "PATH = 'D:/Hi-GalTiles/FitsFiles/Reprojected_l217'\n",
    "print(os.listdir(PATH))"
   ]
  },
  {
   "cell_type": "code",
   "execution_count": 28,
   "metadata": {},
   "outputs": [
    {
     "name": "stdout",
     "output_type": "stream",
     "text": [
      "Filename: D:/Hi-GalTiles/FitsFiles/Reprojected_l217\\Reprojected_l217_PACS_70.fits\n",
      "No.    Name      Ver    Type      Cards   Dimensions   Format\n",
      "  0  PRIMARY       1 PrimaryHDU      19   (1440, 1440)   float64   \n"
     ]
    }
   ],
   "source": [
    "file_no = 2\n",
    "\n",
    "os.listdir(PATH)[file_no]\n",
    "fits_file = fits.open(os.path.join(PATH,os.listdir(PATH)[file_no]))\n",
    "fits_file.info()"
   ]
  },
  {
   "cell_type": "code",
   "execution_count": 29,
   "metadata": {},
   "outputs": [],
   "source": [
    "hdu = fits_file[0]"
   ]
  },
  {
   "cell_type": "code",
   "execution_count": 30,
   "metadata": {},
   "outputs": [],
   "source": [
    "wcs = WCS(hdu.header)"
   ]
  },
  {
   "cell_type": "code",
   "execution_count": 32,
   "metadata": {},
   "outputs": [
    {
     "name": "stdout",
     "output_type": "stream",
     "text": [
      "[698 830]\n",
      "1115\n"
     ]
    }
   ],
   "source": [
    "position = [217.8107627*u.deg,-0.6726228*u.deg]\n",
    "size = 1.8587050*u.deg\n",
    "left = position[0]+size/2\n",
    "right = position[0]-size/2\n",
    "\n",
    "position_pix = []\n",
    "position_pix = wcs.wcs_world2pix(position[0],position[1],0)\n",
    "left_pix = wcs.wcs_world2pix(left,position[1],0)\n",
    "right_pix = wcs.wcs_world2pix(right,position[1],0)\n",
    "\n",
    "position_pix = np.ceil(position_pix).astype(int)\n",
    "size_pix = np.ceil(right_pix[0]-left_pix[0]).astype(int)\n",
    "\n",
    "print(position_pix)\n",
    "print(size_pix)\n",
    "\n",
    "cutout = Cutout2D(hdu.data, position = position_pix, size = size_pix, wcs=wcs)"
   ]
  },
  {
   "cell_type": "code",
   "execution_count": 33,
   "metadata": {},
   "outputs": [],
   "source": [
    "hdu.data = cutout.data"
   ]
  },
  {
   "cell_type": "code",
   "execution_count": 34,
   "metadata": {},
   "outputs": [],
   "source": [
    "hdu.header.update(cutout.wcs.to_header())"
   ]
  },
  {
   "cell_type": "code",
   "execution_count": 35,
   "metadata": {},
   "outputs": [],
   "source": [
    "hdu.writeto('D:/Hi-GalTiles/FitsFiles/Cutout_l217/Cutout_{}'.format(os.listdir(PATH)[file_no]), overwrite=True)"
   ]
  },
  {
   "cell_type": "code",
   "execution_count": null,
   "metadata": {},
   "outputs": [],
   "source": []
  }
 ],
 "metadata": {
  "kernelspec": {
   "display_name": "Python 3",
   "language": "python",
   "name": "python3"
  },
  "language_info": {
   "codemirror_mode": {
    "name": "ipython",
    "version": 3
   },
   "file_extension": ".py",
   "mimetype": "text/x-python",
   "name": "python",
   "nbconvert_exporter": "python",
   "pygments_lexer": "ipython3",
   "version": "3.6.3"
  }
 },
 "nbformat": 4,
 "nbformat_minor": 2
}
