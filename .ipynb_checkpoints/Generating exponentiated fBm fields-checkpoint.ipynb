{
 "cells": [
  {
   "cell_type": "code",
   "execution_count": 67,
   "metadata": {},
   "outputs": [],
   "source": [
    "import numpy as np\n",
    "import matplotlib.pyplot as plt\n",
    "import SpectralSynthesis as ss\n",
    "from tqdm import tqdm"
   ]
  },
  {
   "cell_type": "code",
   "execution_count": 68,
   "metadata": {},
   "outputs": [],
   "source": [
    "Noise = True\n",
    "exp = True\n",
    "nonperiodic = True\n",
    "\n",
    "DATADIR = 'ExponentiatedNonPeriodicNoisy/Testing'\n",
    "\n",
    "\n",
    "periodic = not(nonperiodic)"
   ]
  },
  {
   "cell_type": "code",
   "execution_count": 69,
   "metadata": {},
   "outputs": [],
   "source": [
    "H_min = 0.0\n",
    "H_max = 1.0\n",
    "\n",
    "sigma_min = 0.0\n",
    "sigma_max = 3.0"
   ]
  },
  {
   "cell_type": "code",
   "execution_count": 70,
   "metadata": {},
   "outputs": [
    {
     "data": {
      "image/png": "[encoded data removed]",
      "text/plain": [
       "<matplotlib.figure.Figure at 0x21a0e25b588>"
      ]
     },
     "metadata": {},
     "output_type": "display_data"
    },
    {
     "data": {
      "image/png": "[encoded data removed]",
      "text/plain": [
       "<matplotlib.figure.Figure at 0x21a0e106d68>"
      ]
     },
     "metadata": {},
     "output_type": "display_data"
    }
   ],
   "source": [
    "N = 2000\n",
    "\n",
    "H_list = (H_max-H_min)*np.random.random(N)+H_min\n",
    "sigma_list = (sigma_max-sigma_min)*np.random.random(N)+sigma_min\n",
    "\n",
    "plt.figure()\n",
    "plt.hist(H_list,bins = 10)\n",
    "plt.show()\n",
    "\n",
    "plt.figure()\n",
    "plt.hist(sigma_list,bins = 10)\n",
    "plt.show()"
   ]
  },
  {
   "cell_type": "code",
   "execution_count": 71,
   "metadata": {},
   "outputs": [],
   "source": [
    "N_p = 128\n",
    "E = 2"
   ]
  },
  {
   "cell_type": "code",
   "execution_count": 72,
   "metadata": {},
   "outputs": [
    {
     "data": {
      "image/png": "[encoded data removed]",
      "text/plain": [
       "<matplotlib.figure.Figure at 0x21a0e0def28>"
      ]
     },
     "metadata": {},
     "output_type": "display_data"
    }
   ],
   "source": [
    "if Noise:\n",
    "    noise_pct_list = np.random.random(N)*0.01\n",
    "\n",
    "    plt.figure()\n",
    "    plt.hist(noise_pct_list,bins = 10)\n",
    "    plt.show()"
   ]
  },
  {
   "cell_type": "code",
   "execution_count": 73,
   "metadata": {
    "scrolled": true
   },
   "outputs": [
    {
     "name": "stderr",
     "output_type": "stream",
     "text": [
      "  0%|                                                                                         | 0/2000 [00:00<?, ?it/s]C:\\Users\\C1764397\\Workshop\\PhD\\Scripts\\SpectralSynthesis.py:58: RuntimeWarning: divide by zero encountered in power\n",
      "  rad = np.where(k>0.0,k**(-(beta*0.5)),0.0)\n",
      "100%|██████████████████████████████████████████████████████████████████████████████| 2000/2000 [08:31<00:00,  3.91it/s]\n"
     ]
    }
   ],
   "source": [
    "for i in tqdm(range(N)):\n",
    "    if periodic:\n",
    "        field = ss.fBm(E=E,exp=exp,H=H_list[i],sigma = sigma_list[i],N=N_p)\n",
    "    \n",
    "    if nonperiodic:\n",
    "        field = ss.fBm(E=E,exp=exp,H=H_list[i],sigma = sigma_list[i],N=N_p*4)\n",
    "        field = field[int((N_p*4-N_p)/2):int((N_p*4+N_p)/2),int((N_p*4-N_p)/2):int((N_p*4+N_p)/2)]\n",
    "    \n",
    "    m_1_field = np.mean(field)\n",
    "    s_1_field = np.std(field)\n",
    "    m_2_field = 0\n",
    "    s_2_field = 1/4\n",
    "        \n",
    "    field *= s_2_field/s_1_field\n",
    "    field += (m_2_field-m_1_field*s_2_field/s_1_field)\n",
    "    \n",
    "    if Noise:\n",
    "    \n",
    "        noise = ss.fBm(E=E,exp=False, H = -1, N=N_p)\n",
    "\n",
    "        m_1_noise = np.mean(noise)\n",
    "        s_1_noise = np.std(noise)\n",
    "        m_2_noise = 0\n",
    "        s_2_noise = s_2_field*noise_pct_list[i]\n",
    "\n",
    "        noise *= s_2_noise/s_1_noise\n",
    "        noise += (m_2_noise-m_1_noise*s_2_noise/s_1_noise)\n",
    "\n",
    "        field += noise\n",
    "        \n",
    "        \n",
    "    m_1_field = np.mean(field)\n",
    "    s_1_field = np.std(field)\n",
    "    m_2_field = 0\n",
    "    s_2_field = 1/4\n",
    "        \n",
    "    field *= s_2_field/s_1_field\n",
    "    field += (m_2_field-m_1_field*s_2_field/s_1_field)\n",
    "    \n",
    "    field[np.where(field>1.)] = 1.\n",
    "    field[np.where(field<-1.)] = -1.\n",
    "    \n",
    "    field = (field-np.min(field))/(np.max(field)-np.min(field))\n",
    "    \n",
    "    np.savetxt('D:/'+DATADIR+'/features/field_'+format(i,'06d')+'.txt',field)"
   ]
  },
  {
   "cell_type": "code",
   "execution_count": 74,
   "metadata": {},
   "outputs": [],
   "source": [
    "labels = np.zeros((N,2))\n",
    "\n",
    "labels[:,0] = H_list\n",
    "labels[:,1] = sigma_list"
   ]
  },
  {
   "cell_type": "code",
   "execution_count": 75,
   "metadata": {},
   "outputs": [],
   "source": [
    "np.savetxt('D:/'+DATADIR+'/labels/labels.txt', labels)"
   ]
  },
  {
   "cell_type": "code",
   "execution_count": null,
   "metadata": {},
   "outputs": [],
   "source": []
  }
 ],
 "metadata": {
  "kernelspec": {
   "display_name": "Python 3",
   "language": "python",
   "name": "python3"
  },
  "language_info": {
   "codemirror_mode": {
    "name": "ipython",
    "version": 3
   },
   "file_extension": ".py",
   "mimetype": "text/x-python",
   "name": "python",
   "nbconvert_exporter": "python",
   "pygments_lexer": "ipython3",
   "version": "3.6.3"
  }
 },
 "nbformat": 4,
 "nbformat_minor": 2
}
