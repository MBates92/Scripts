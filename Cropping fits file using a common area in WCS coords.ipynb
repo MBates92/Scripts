{
 "cells": [
  {
   "cell_type": "code",
   "execution_count": 55,
   "metadata": {},
   "outputs": [],
   "source": [
    "import numpy as np\n",
    "import matplotlib.pyplot as plt\n",
    "from astropy.io import fits\n",
    "import os\n",
    "from astropy.wcs import WCS\n",
    "from reproject import reproject_interp, reproject_exact\n",
    "from astropy.nddata import Cutout2D\n",
    "from astropy import units as u\n",
    "from astropy.coordinates import SkyCoord\n",
    "from astropy.coordinates import Galactic"
   ]
  },
  {
   "cell_type": "code",
   "execution_count": 56,
   "metadata": {},
   "outputs": [
    {
     "name": "stdout",
     "output_type": "stream",
     "text": [
      "['Reprojected_l220_cdens.fits', 'Reprojected_l220_PACS_160.fits', 'Reprojected_l220_PACS_70.fits', 'Reprojected_l220_SPIRE_250.fits', 'Reprojected_l220_SPIRE_350.fits', 'Reprojected_l220_SPIRE_500.fits', 'Reprojected_l220_temp.fits']\n"
     ]
    }
   ],
   "source": [
    "PATH = 'D:/Hi-GalTiles/FitsFiles/Reprojected_l222'\n",
    "print(os.listdir(PATH))"
   ]
  },
  {
   "cell_type": "code",
   "execution_count": 57,
   "metadata": {},
   "outputs": [
    {
     "name": "stdout",
     "output_type": "stream",
     "text": [
      "Filename: D:/Hi-GalTiles/FitsFiles/Reprojected_l220\\Reprojected_l220_temp.fits\n",
      "No.    Name      Ver    Type      Cards   Dimensions   Format\n",
      "  0  PRIMARY       1 PrimaryHDU      19   (1440, 1440)   float32   \n"
     ]
    }
   ],
   "source": [
    "file_no = 0\n",
    "\n",
    "os.listdir(PATH)[file_no]\n",
    "fits_file = fits.open(os.path.join(PATH,os.listdir(PATH)[file_no]))\n",
    "fits_file.info()"
   ]
  },
  {
   "cell_type": "code",
   "execution_count": 58,
   "metadata": {},
   "outputs": [],
   "source": [
    "hdu = fits_file[0]"
   ]
  },
  {
   "cell_type": "code",
   "execution_count": 59,
   "metadata": {},
   "outputs": [],
   "source": [
    "wcs = WCS(hdu.header)"
   ]
  },
  {
   "cell_type": "code",
   "execution_count": 60,
   "metadata": {},
   "outputs": [
    {
     "name": "stdout",
     "output_type": "stream",
     "text": [
      "[702 680]\n",
      "1115\n"
     ]
    }
   ],
   "source": [
    "position = [222.1940905*u.deg,-0.9577370*u.deg]\n",
    "size = 1.8587050*u.deg\n",
    "left = position[0]+size/2\n",
    "right = position[0]-size/2\n",
    "\n",
    "position_pix = []\n",
    "position_pix = wcs.wcs_world2pix(position[0],position[1],0)\n",
    "left_pix = wcs.wcs_world2pix(left,position[1],0)\n",
    "right_pix = wcs.wcs_world2pix(right,position[1],0)\n",
    "\n",
    "position_pix = np.ceil(position_pix).astype(int)\n",
    "size_pix = np.ceil(right_pix[0]-left_pix[0]).astype(int)\n",
    "\n",
    "print(position_pix)\n",
    "print(size_pix)\n",
    "\n",
    "cutout = Cutout2D(hdu.data, position = position_pix, size = size_pix, wcs=wcs)"
   ]
  },
  {
   "cell_type": "code",
   "execution_count": 61,
   "metadata": {},
   "outputs": [],
   "source": [
    "hdu.data = cutout.data"
   ]
  },
  {
   "cell_type": "code",
   "execution_count": 62,
   "metadata": {},
   "outputs": [],
   "source": [
    "hdu.header.update(cutout.wcs.to_header())"
   ]
  },
  {
   "cell_type": "code",
   "execution_count": 63,
   "metadata": {},
   "outputs": [],
   "source": [
    "hdu.writeto('D:/Hi-GalTiles/FitsFiles/Cutout_l222/Cutout_{}'.format(os.listdir(PATH)[file_no]), overwrite=True)"
   ]
  },
  {
   "cell_type": "code",
   "execution_count": null,
   "metadata": {},
   "outputs": [],
   "source": []
  }
 ],
 "metadata": {
  "kernelspec": {
   "display_name": "Python 3",
   "language": "python",
   "name": "python3"
  },
  "language_info": {
   "codemirror_mode": {
    "name": "ipython",
    "version": 3
   },
   "file_extension": ".py",
   "mimetype": "text/x-python",
   "name": "python",
   "nbconvert_exporter": "python",
   "pygments_lexer": "ipython3",
   "version": "3.6.3"
  }
 },
 "nbformat": 4,
 "nbformat_minor": 2
}
