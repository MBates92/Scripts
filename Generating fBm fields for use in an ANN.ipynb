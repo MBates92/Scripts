{
 "cells": [
  {
   "cell_type": "code",
   "execution_count": 35,
   "metadata": {},
   "outputs": [],
   "source": [
    "import numpy as np\n",
    "import matplotlib.pyplot as plt\n",
    "import SpectralSynthesis as ss"
   ]
  },
  {
   "cell_type": "markdown",
   "metadata": {},
   "source": [
    "### We want to create 100,000 fBm fields of 100x100 pixels\n",
    "\n",
    "$H$ ranges from 0 to 1,  $\\sigma$ ranges from 0.1 to 3"
   ]
  },
  {
   "cell_type": "code",
   "execution_count": 36,
   "metadata": {},
   "outputs": [],
   "source": [
    "H_min = 0.0\n",
    "H_max = 1.0\n",
    "\n",
    "sigma_min = 0.1\n",
    "sigma_max = 3.0"
   ]
  },
  {
   "cell_type": "markdown",
   "metadata": {},
   "source": [
    "First we need to generate our 100,000 input parameters.\n",
    "\n",
    "i.e. 100,000 different values of $H$, and 100,000 different values of $\\sigma$"
   ]
  },
  {
   "cell_type": "code",
   "execution_count": 37,
   "metadata": {},
   "outputs": [
    {
     "data": {
      "text/plain": [
       "(array([ 10217.,  10002.,   9991.,   9921.,  10030.,   9990.,   9994.,\n",
       "          9872.,   9942.,  10041.]),\n",
       " array([ 0.10001156,  0.39000739,  0.68000323,  0.96999906,  1.2599949 ,\n",
       "         1.54999073,  1.83998657,  2.1299824 ,  2.41997824,  2.70997407,\n",
       "         2.99996991]),\n",
       " <a list of 10 Patch objects>)"
      ]
     },
     "execution_count": 37,
     "metadata": {},
     "output_type": "execute_result"
    },
    {
     "data": {
      "image/png": "[encoded data removed]",
      "text/plain": [
       "<matplotlib.figure.Figure at 0x2015bee9e80>"
      ]
     },
     "metadata": {},
     "output_type": "display_data"
    },
    {
     "data": {
      "image/png": "[encoded data removed]",
      "text/plain": [
       "<matplotlib.figure.Figure at 0x2015bef7470>"
      ]
     },
     "metadata": {},
     "output_type": "display_data"
    }
   ],
   "source": [
    "N = 100000\n",
    "\n",
    "H_list = np.random.random(N)\n",
    "sigma_list = (sigma_max-sigma_min)*np.random.random(N)+sigma_min\n",
    "\n",
    "plt.figure()\n",
    "plt.hist(H_list,bins = 10)\n",
    "\n",
    "plt.figure()\n",
    "plt.hist(sigma_list, bins=10)"
   ]
  },
  {
   "cell_type": "code",
   "execution_count": 38,
   "metadata": {},
   "outputs": [
    {
     "name": "stdout",
     "output_type": "stream",
     "text": [
      "(100000, 2)\n"
     ]
    }
   ],
   "source": [
    "target_list = np.zeros((N,2))\n",
    "target_list[:,0] = H_list\n",
    "target_list[:,1] = sigma_list\n",
    "print(np.shape(target_list))"
   ]
  },
  {
   "cell_type": "code",
   "execution_count": 39,
   "metadata": {},
   "outputs": [
    {
     "data": {
      "text/plain": [
       "(array([ 10217.,  10002.,   9991.,   9921.,  10030.,   9990.,   9994.,\n",
       "          9872.,   9942.,  10041.]),\n",
       " array([ 0.10001156,  0.39000739,  0.68000323,  0.96999906,  1.2599949 ,\n",
       "         1.54999073,  1.83998657,  2.1299824 ,  2.41997824,  2.70997407,\n",
       "         2.99996991]),\n",
       " <a list of 10 Patch objects>)"
      ]
     },
     "execution_count": 39,
     "metadata": {},
     "output_type": "execute_result"
    },
    {
     "data": {
      "image/png": "[encoded data removed]",
      "text/plain": [
       "<matplotlib.figure.Figure at 0x2015be95cc0>"
      ]
     },
     "metadata": {},
     "output_type": "display_data"
    },
    {
     "data": {
      "image/png": "[encoded data removed]",
      "text/plain": [
       "<matplotlib.figure.Figure at 0x2015bee93c8>"
      ]
     },
     "metadata": {},
     "output_type": "display_data"
    }
   ],
   "source": [
    "plt.figure()\n",
    "plt.hist(target_list[:,0],bins = 10)\n",
    "\n",
    "plt.figure()\n",
    "plt.hist(target_list[:,1], bins=10)"
   ]
  },
  {
   "cell_type": "code",
   "execution_count": 40,
   "metadata": {},
   "outputs": [
    {
     "name": "stdout",
     "output_type": "stream",
     "text": [
      "10\n"
     ]
    }
   ],
   "source": [
    "split_list = np.split(target_list,10)\n",
    "print(len(split_list))"
   ]
  },
  {
   "cell_type": "markdown",
   "metadata": {},
   "source": [
    "##### We want 2-dimensional 100x100 pixel fields"
   ]
  },
  {
   "cell_type": "code",
   "execution_count": 41,
   "metadata": {},
   "outputs": [],
   "source": [
    "N_p = 100\n",
    "E = 2"
   ]
  },
  {
   "cell_type": "markdown",
   "metadata": {},
   "source": [
    "##### Now we generate our 10,000 fields and save to disk."
   ]
  },
  {
   "cell_type": "code",
   "execution_count": 42,
   "metadata": {},
   "outputs": [
    {
     "name": "stdout",
     "output_type": "stream",
     "text": [
      "0\n"
     ]
    },
    {
     "name": "stderr",
     "output_type": "stream",
     "text": [
      "C:\\Users\\C1764397\\Workshop\\PhD\\Scripts\\SpectralSynthesis.py:58: RuntimeWarning: divide by zero encountered in power\n",
      "  rad = np.where(k>0.0,k**(-(beta*0.5)),0.0)\n"
     ]
    },
    {
     "name": "stdout",
     "output_type": "stream",
     "text": [
      "1\n",
      "2\n",
      "3\n",
      "4\n",
      "5\n",
      "6\n",
      "7\n",
      "8\n",
      "9\n"
     ]
    }
   ],
   "source": [
    "c=0\n",
    "for i in range(N):\n",
    "    if i%(N/len(split_list)) == 0:\n",
    "        path = '../Data/fBmFieldANN/fields/training/batch_0'+str(c)+'/'\n",
    "        c+=1\n",
    "        print(c-1)\n",
    "        np.savetxt(path+'target.txt',split_list[c-1])\n",
    "    field = ss.fBm(N_p,E,target_list[i,0],target_list[i,1])\n",
    "    field/=np.amax(field)\n",
    "    np.savetxt(path+str(E)+'D_fBm_'+str(N_p)+'_'+format(i,'06d')+'.txt',field)"
   ]
  },
  {
   "cell_type": "code",
   "execution_count": null,
   "metadata": {},
   "outputs": [],
   "source": []
  }
 ],
 "metadata": {
  "kernelspec": {
   "display_name": "Python 3",
   "language": "python",
   "name": "python3"
  },
  "language_info": {
   "codemirror_mode": {
    "name": "ipython",
    "version": 3
   },
   "file_extension": ".py",
   "mimetype": "text/x-python",
   "name": "python",
   "nbconvert_exporter": "python",
   "pygments_lexer": "ipython3",
   "version": "3.6.3"
  }
 },
 "nbformat": 4,
 "nbformat_minor": 2
}
