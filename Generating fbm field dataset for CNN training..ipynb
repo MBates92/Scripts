{
 "cells": [
  {
   "cell_type": "code",
   "execution_count": 1,
   "metadata": {},
   "outputs": [],
   "source": [
    "import numpy as np\n",
    "import matplotlib.pyplot as plt\n",
    "import SpectralSynthesis as ss\n",
    "import pickle\n",
    "from tqdm import tqdm"
   ]
  },
  {
   "cell_type": "code",
   "execution_count": 2,
   "metadata": {},
   "outputs": [],
   "source": [
    "N_X = 22000\n",
    "H_RANGE = [0,1]\n",
    "S_RANGE = [0,3]\n",
    "N_PIX = 128\n",
    "E_DIMENSIONS = 2\n",
    "\n",
    "PERIODIC = False\n",
    "NOISE = True\n",
    "EXP = True"
   ]
  },
  {
   "cell_type": "code",
   "execution_count": 3,
   "metadata": {},
   "outputs": [],
   "source": [
    "H_list = np.random.uniform(H_RANGE[0], H_RANGE[1], N_X)\n",
    "S_list = np.random.uniform(S_RANGE[0], S_RANGE[1], N_X)\n",
    "noise_pct_list = np.random.random(N_X)*0.01"
   ]
  },
  {
   "cell_type": "code",
   "execution_count": null,
   "metadata": {},
   "outputs": [
    {
     "data": {
      "text/plain": [
       "array([0.23678909, 0.82230982, 0.00096583])"
      ]
     },
     "execution_count": 4,
     "metadata": {},
     "output_type": "execute_result"
    }
   ],
   "source": [
    "parameters = np.array([H_list, S_list, noise_pct_list]).T\n",
    "parameters[0]"
   ]
  },
  {
   "cell_type": "code",
   "execution_count": null,
   "metadata": {},
   "outputs": [
    {
     "name": "stderr",
     "output_type": "stream",
     "text": [
      "  0%|                                                                                        | 0/22000 [00:00<?, ?it/s]C:\\Users\\C1764397\\Workshop\\PhD\\Scripts\\SpectralSynthesis.py:58: RuntimeWarning: divide by zero encountered in power\n",
      "  rad = np.where(k>0.0,k**(-(beta*0.5)),0.0)\n",
      "  7%|█████                                                                        | 1453/22000 [02:52<42:22,  8.08it/s]"
     ]
    }
   ],
   "source": [
    "def generate_field(H,S,NOISE_FRACTION, N_PIX, PERIODIC, EXP):\n",
    "    if PERIODIC:\n",
    "        field = ss.fBm(E=E_DIMENSIONS,exp=EXP,H=H,sigma=S,N=N_PIX, centred = False)\n",
    "    else:\n",
    "        field = ss.fBm(E=E_DIMENSIONS,exp=EXP,H=H,sigma = S, N=N_PIX*4, centred=False)\n",
    "        field = field[int((N_PIX*4-N_PIX)/2):int((N_PIX*4+N_PIX)/2),int((N_PIX*4-N_PIX)/2):int((N_PIX*4+N_PIX)/2)]\n",
    "\n",
    "    m_1_field = np.mean(field)\n",
    "    s_1_field = np.std(field)\n",
    "    m_2_field = 0\n",
    "    s_2_field = 1/4\n",
    "\n",
    "    field *= s_2_field/s_1_field\n",
    "    field += (m_2_field-m_1_field*s_2_field/s_1_field)\n",
    "\n",
    "    if NOISE:\n",
    "        noise = ss.fBm(E=E_DIMENSIONS,exp=False,H=-1,N=N_PIX)\n",
    "\n",
    "        m_1_noise = np.mean(noise)\n",
    "        s_1_noise = np.std(noise)\n",
    "        m_2_noise = 0\n",
    "        s_2_noise = s_2_field*NOISE_FRACTION\n",
    "\n",
    "        noise *= s_2_noise/s_1_noise\n",
    "        noise += (m_2_noise-m_1_noise*s_2_noise/s_1_noise)\n",
    "\n",
    "        field += noise\n",
    "\n",
    "    m_1_field = np.mean(field)\n",
    "    s_1_field = np.std(field)\n",
    "    m_2_field = 0\n",
    "    s_2_field = 1/4\n",
    "\n",
    "    field *= s_2_field/s_1_field\n",
    "    field += (m_2_field-m_1_field*s_2_field/s_1_field)\n",
    "\n",
    "    field[np.where(field>1.)] = 1.\n",
    "    field[np.where(field<-1.)] = -1.\n",
    "\n",
    "    field = (field-np.min(field))/(np.max(field)-np.min(field))\n",
    "\n",
    "    return field\n",
    "\n",
    "DATA = [(generate_field(*parameter, N_PIX, PERIODIC, EXP), parameter) for parameter in tqdm(parameters)]\n",
    "\n",
    "DATA"
   ]
  },
  {
   "cell_type": "code",
   "execution_count": null,
   "metadata": {},
   "outputs": [],
   "source": [
    "dbfile = open('D:\\FBM Training Data\\X.pickle', 'ab') \n",
    "\n",
    "pickle.dump(DATA, dbfile)                      \n",
    "dbfile.close() "
   ]
  }
 ],
 "metadata": {
  "kernelspec": {
   "display_name": "Python 3",
   "language": "python",
   "name": "python3"
  },
  "language_info": {
   "codemirror_mode": {
    "name": "ipython",
    "version": 3
   },
   "file_extension": ".py",
   "mimetype": "text/x-python",
   "name": "python",
   "nbconvert_exporter": "python",
   "pygments_lexer": "ipython3",
   "version": "3.6.3"
  }
 },
 "nbformat": 4,
 "nbformat_minor": 2
}
