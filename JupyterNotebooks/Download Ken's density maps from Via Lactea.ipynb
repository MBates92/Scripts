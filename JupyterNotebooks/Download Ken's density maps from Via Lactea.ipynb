{
 "cells": [
  {
   "cell_type": "code",
   "execution_count": 1,
   "metadata": {},
   "outputs": [],
   "source": [
    "import requests\n",
    "import numpy as np\n",
    "import os\n",
    "from tqdm import tqdm"
   ]
  },
  {
   "cell_type": "code",
   "execution_count": 2,
   "metadata": {},
   "outputs": [
    {
     "name": "stderr",
     "output_type": "stream",
     "text": [
      "100%|████████████████████████████████████████████████████████████████████████████████| 365/365 [57:09<00:00,  9.40s/it]\n"
     ]
    }
   ],
   "source": [
    "fits_type_list = ['cdens','diffcdens','sigdiffcdens','temp']\n",
    "\n",
    "for tile in tqdm(range(0,365)):\n",
    "    PATH = 'D:/DATA/ViaLactea/PPMAP_Results/l{:03d}_results'.format(tile)\n",
    "    URL = 'http://www.astro.cardiff.ac.uk/research/ViaLactea/PPMAP_Results/l{:03d}_results/'.format(tile)\n",
    "    request = requests.get(URL)\n",
    "    if request.status_code == 200:\n",
    "        for fits_type in fits_type_list:\n",
    "            url = 'http://www.astro.cardiff.ac.uk/research/ViaLactea/PPMAP_Results/l{:03d}_results/l{:03d}_{}.fits'.format(tile,tile,fits_type)\n",
    "            r = requests.get(url, allow_redirects=True)\n",
    "            if not(os.path.isdir(PATH)):  \n",
    "                os.makedirs(PATH)\n",
    "            open(os.path.join(PATH,'l{:03d}_{}.fits'.format(tile,fits_type)), 'wb').write(r.content)"
   ]
  },
  {
   "cell_type": "code",
   "execution_count": null,
   "metadata": {},
   "outputs": [],
   "source": []
  }
 ],
 "metadata": {
  "kernelspec": {
   "display_name": "Python 3",
   "language": "python",
   "name": "python3"
  },
  "language_info": {
   "codemirror_mode": {
    "name": "ipython",
    "version": 3
   },
   "file_extension": ".py",
   "mimetype": "text/x-python",
   "name": "python",
   "nbconvert_exporter": "python",
   "pygments_lexer": "ipython3",
   "version": "3.6.3"
  }
 },
 "nbformat": 4,
 "nbformat_minor": 2
}
