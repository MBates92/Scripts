{
 "cells": [
  {
   "cell_type": "markdown",
   "metadata": {},
   "source": [
    "# Import modules needed"
   ]
  },
  {
   "cell_type": "code",
   "execution_count": 1,
   "metadata": {},
   "outputs": [],
   "source": [
    "import numpy as np\n",
    "import random\n",
    "from scipy.spatial import distance\n",
    "from scipy.integrate import simps\n",
    "import matplotlib.pyplot as plt\n",
    "plt.rcParams.update({'font.size': 20})\n",
    "from tqdm import tqdm"
   ]
  },
  {
   "cell_type": "markdown",
   "metadata": {},
   "source": [
    "# Functions\n",
    "\n",
    "These functions below deal with the Elmegreen fractal generating algorithm itself.\n",
    "\n",
    "The funtion `coord_func` is equivalent to the equation:\n",
    "\n",
    "$$\n",
    "x_n = x_{n-1} + \\frac{|2\\mathcal{L} - 1 |}{\\mathcal{S}^g}\n",
    "$$\n",
    "\n",
    "where $\\mathcal L$ is a linear random deviate on the interval $[0,1]$, $\\mathcal S$ is the scaling parameter as described by Elmegreen (1997), and $g$ is the generation. This function generates $\\mathcal F$ values of $x_n$, described as the number of children.\n",
    "\n",
    "The function `fractal_point_gen` defines the logic needed to generate the points which constitute the fractal field. The `integer` parameter let's the function decide whether we want an integer $\\mathcal S$ (`integer='S'`) or an integer $\\mathcal F$ (`integer ='F'`). Subsequently, the function has the optional parameters `S` and `F`, one of which must be defined depending on the choice of `integer`. The function also takes as parameters; the number of generations $\\mathcal G$, the fractal dimension, $D$, and the Euclidean dimension, $E$.\n",
    "\n",
    "If we want an integer $\\mathcal S$ the function calculates, $\\mathcal{F}$, $\\mathcal{F}_{\\rm{ST}}$, $\\mathcal{F}_{\\rm{LO}}$, $\\mathcal{F}_{\\rm{HI}}$, and $\\Delta\\mathcal{F}$. It then sets up the appropriate values of $\\mathcal{F}$ and $\\mathcal G$ with which to pass to `coord_func`. The first $\\mathcal F$ value is equal to $\\mathcal{F}_{\\rm{ST}}$, the rest are set as follows:\n",
    "\n",
    "\\begin{eqnarray}\n",
    "{\\cal F}_{_{\\rm{LO}}}\\,,&{\\rm{if}}&{\\cal L}>\\Delta{\\cal F}\\,,\\\\\n",
    "{\\cal F}_{_{\\rm{HI}}}\\,,&{\\rm{if}}&{\\cal L}<\\Delta{\\cal F}\\,.\n",
    "\\end{eqnarray}\n",
    "\n",
    "A set of points are generated $E$ times to get an $E$-dimensional set of coordinates.\n",
    "\n",
    "`fractal_point_gen` also has the option to pass these coordinates to the `star_culling` function before returning them.\n",
    "\n",
    "The function `star_culling` takes a set of coordinates and culls points randomly to a desired number.\n",
    "\n",
    "The function `fractal_field_gen` returns a histogram based on `fractal_point_gen`."
   ]
  },
  {
   "cell_type": "code",
   "execution_count": 2,
   "metadata": {},
   "outputs": [],
   "source": [
    "def coord_func(x,S,g,F):\n",
    "    L = np.random.random(F)\n",
    "    return x + 2*(L-0.5)/S**g\n",
    "\n",
    "def fractal_point_gen(integer,G,D,E=2,S=None,F=None,N_points=None):\n",
    "    if integer == 'S':\n",
    "        F=S**D\n",
    "        F_st = int(F+0.5)\n",
    "        F_lo = int(F)\n",
    "        F_hi = F_lo+1\n",
    "        F_change = F - F_lo\n",
    "        L = np.random.random(G-1)\n",
    "        F_array = np.concatenate((np.array([F_st]),np.where(L>F_change,F_lo,F_hi)),axis=None)\n",
    "        G_array = np.array([*range(1,G+1)])\n",
    "        points = []\n",
    "        for e in range(E):\n",
    "            x = [0.5]\n",
    "            for g,f in np.array([G_array,F_array]).T:\n",
    "                x = [x_ii for x_i in x for x_ii in coord_func(x_i,S,g,f)]\n",
    "            points.append(x)\n",
    "    if integer == 'F':\n",
    "        S=F**(1/D)\n",
    "        G_array = np.array([*range(1,G+1)])\n",
    "        points = []\n",
    "        for e in range(E):\n",
    "            x = [0.5]\n",
    "            for g in G_array:\n",
    "                x = [x_ii for x_i in x for x_ii in coord_func(x_i,S,g,F)]\n",
    "            points.append(x)\n",
    "    if N_points:\n",
    "        points = star_culling(points,N_points)\n",
    "    return points\n",
    "\n",
    "def star_culling(points, N_points):\n",
    "    while len(points[0])>N_points:\n",
    "        n=1+int(np.random.random()*(len(points[0])-1))\n",
    "        for i in range(0,len(points)):\n",
    "            del points[i][n-1]\n",
    "    return points\n",
    "\n",
    "def fractal_field_gen(integer,G,D,E,S=None,F=None,N_pix=None,seed=None):\n",
    "    if seed != None:\n",
    "        np.random.seed(int(seed))  \n",
    "    if N_pix==None:\n",
    "        N_pix = S**G\n",
    "    fractal_points = fractal_point_gen(integer,G,D,E,S,F)\n",
    "    fractal_field = np.histogramdd(fractal_points, bins=int(N_pix))[0]\n",
    "    return fractal_field"
   ]
  },
  {
   "cell_type": "markdown",
   "metadata": {},
   "source": [
    "The functions below deal with calculating the cumulative probability distribution for the separations of a set of points.\n",
    "\n",
    "Given a set of $\\cal I$ stars, where each star has position $\\mathbf r_i \\equiv (x_i,y_i)$, the cumulative probability probability distribution is,\n",
    "\n",
    "$$P(s) \\simeq \\frac{2\\cal N(<s)}{\\cal I (\\cal I -1)}$$\n",
    "\n",
    "where $\\cal N(<s)$ is the number of separations less than $s$. \n",
    "\n",
    "This requires us to compute all inter-star separations,\n",
    "\n",
    "$$s_{ij} = \\big|\\mathbf r_i - \\mathbf r_j\\big|$$\n",
    "\n",
    "making sure we only count each separation once.\n",
    "\n",
    "The function `ordered_separations` computes all the unique separations for a set of points.\n",
    "\n",
    "The function `cum_dist_seps` takes a set of points, its separations, and the value $s$ and computes the cumulative probability that a separation is less than $s$.\n",
    "\n",
    "The function `two_pt_corr` takes the set of points, the cumulative probability, $P(s)$, and the value $s$ and computes the two-point correlation function according to,\n",
    "\n",
    "$$\n",
    "\\xi_2(s) \\simeq \\frac{dP/ds}{2\\pi s \\tilde N}-1\n",
    "$$\n",
    "\n",
    "for 2-dimensions, or,\n",
    "\n",
    "$$\n",
    "\\xi_3(s) \\simeq \\frac{dP/ds}{4\\pi s^2 \\tilde N}-1\n",
    "$$\n",
    "\n",
    "where $\\tilde N = \\cal I/\\cal A$ with $\\cal A$ being the area/volume of the convex hull of the set of points."
   ]
  },
  {
   "cell_type": "code",
   "execution_count": 3,
   "metadata": {},
   "outputs": [],
   "source": [
    "from scipy.spatial import ConvexHull\n",
    "\n",
    "def ordered_separations(points):\n",
    "    coords = [point for point in np.array(points).T]\n",
    "    distance_matrix = distance.cdist(coords, coords, 'euclidean')\n",
    "    separations = np.unique(distance_matrix[distance_matrix != 0])\n",
    "    return separations\n",
    "\n",
    "def cum_dist_seps(coords,separations,s):\n",
    "    N_s = np.sum(np.where(separations<s,1,0))\n",
    "    I=len(coords)\n",
    "    P_s = 2*N_s/(I*(I-1))\n",
    "    return P_s\n",
    "\n",
    "def two_pt_corr(coords, P_s, s):\n",
    "    coords=np.array(coords).T\n",
    "    E = len(coords[0])\n",
    "    I = len(coords)\n",
    "    V = ConvexHull(coords).volume\n",
    "    N_bar = I/V\n",
    "    dpds = np.gradient(P_s,s[1]-s[0])\n",
    "    return (dpds/(2*(E-1)*np.pi*(s**(E-1))*N_bar)) - 1"
   ]
  },
  {
   "cell_type": "markdown",
   "metadata": {},
   "source": [
    "# Implementation"
   ]
  },
  {
   "cell_type": "code",
   "execution_count": 4,
   "metadata": {
    "scrolled": true
   },
   "outputs": [
    {
     "data": {
      "text/plain": [
       "array([[2, 6],\n",
       "       [3, 4],\n",
       "       [2, 6],\n",
       "       [3, 4],\n",
       "       [2, 6],\n",
       "       [3, 4],\n",
       "       [2, 6],\n",
       "       [3, 4],\n",
       "       [2, 6],\n",
       "       [3, 4]])"
      ]
     },
     "execution_count": 4,
     "metadata": {},
     "output_type": "execute_result"
    }
   ],
   "source": [
    "N_fields = 20\n",
    "S_LIST=[2,3]*N_fields\n",
    "D = 2.3\n",
    "G_LIST = [6,4]*N_fields\n",
    "E=3\n",
    "\n",
    "params = np.array([S_LIST,G_LIST]).T\n",
    "params[:10]"
   ]
  },
  {
   "cell_type": "code",
   "execution_count": null,
   "metadata": {
    "scrolled": false
   },
   "outputs": [
    {
     "name": "stderr",
     "output_type": "stream",
     "text": [
      "  0%|                                                                                           | 0/40 [00:00<?, ?it/s]C:\\ProgramData\\Anaconda3\\lib\\site-packages\\matplotlib\\axes\\_axes.py:6521: MatplotlibDeprecationWarning: \n",
      "The 'normed' kwarg was deprecated in Matplotlib 2.1 and will be removed in 3.1. Use 'density' instead.\n",
      "  alternative=\"'density'\", removal=\"3.1\")\n",
      " 52%|███████████████████████████████████████████                                       | 21/40 [21:54<20:22, 64.34s/it]"
     ]
    }
   ],
   "source": [
    "min_stars = 8000\n",
    "s_factors = np.linspace(0.01,2,100)\n",
    "\n",
    "f, (ax1,ax2,ax3,ax4) = plt.subplots(4,1, figsize = (10,50))\n",
    "ax1.plot([], label='S=2', color=\"blue\")  \n",
    "ax1.plot([], label=\"S=3\", color=\"red\")\n",
    "ax2.plot([], label='S=2', color=\"blue\")  \n",
    "ax2.plot([], label=\"S=3\", color=\"red\") \n",
    "ax3.plot([], label='S=2', color=\"blue\")  \n",
    "ax3.plot([], label=\"S=3\", color=\"red\")  \n",
    "ax4.plot([], label='S=2', color=\"blue\")  \n",
    "ax4.plot([], label=\"S=3\", color=\"red\")  \n",
    "\n",
    "integration_values = []\n",
    "\n",
    "for s,g in tqdm(params):\n",
    "    field = fractal_point_gen('S',g,D,E,S=s)\n",
    "    while len(field[0]) < min_stars:\n",
    "        print('Number of stars generated:', len(field[0]))\n",
    "        field = fractal_point_gen('S',g,D,E,S=s)\n",
    "    culled_field = star_culling(field, min_stars)\n",
    "    separations = ordered_separations(culled_field)\n",
    "    P_s = np.array([cum_dist_seps(culled_field,separations,s) for s in s_factors])\n",
    "    xi = two_pt_corr(field,P_s,s_factors)\n",
    "    \n",
    "    n, bins, patches = ax4.hist(separations, bins=100, normed=True, fc='k', alpha=0.3)\n",
    "    bins_centred = np.array([(bins[i]+bins[i+1])/2 for i in range(100)])                      \n",
    "    mode = bins_centred[np.argmax(n)]\n",
    "    P_mode = np.max(n)\n",
    "    \n",
    "    s_factors_slice = s_factors[np.where(s_factors>0.7)]\n",
    "    P_s_slice = P_s[np.where(s_factors>0.7)]\n",
    "    \n",
    "    integration_value = simps(P_s_slice, s_factors_slice)\n",
    "    integration_values.append(integration_value)\n",
    "    \n",
    "    \n",
    "    if s==2:\n",
    "        ax1.plot(s_factors,P_s, c='b')\n",
    "        ax2.plot(s_factors,xi, c='b')\n",
    "        ax3.scatter(mode,P_mode, c='b')\n",
    "        ax4.scatter(integration_value, 0, c='b')\n",
    "    if s==3:\n",
    "        ax1.plot(s_factors,P_s, c='r')\n",
    "        ax2.plot(s_factors,xi, c='r')\n",
    "        ax3.scatter(mode,P_mode, c='r')\n",
    "        ax4.scatter(integration_value, 0, c='r')\n",
    "    \n",
    "ax1.set_title('Cumulative distribution for Integer S')\n",
    "ax1.set_ylabel(r'$P(s)$')\n",
    "ax1.set_xlabel(r'$s$')\n",
    "ax1.legend()\n",
    "\n",
    "ax2.set_title('Two point correlation function for Integer S')\n",
    "ax2.set_ylabel(r'$\\xi(s)$')\n",
    "ax2.set_xlabel(r'$s$')\n",
    "ax2.legend()\n",
    "ax2.set_yscale('log')\n",
    "\n",
    "ax3.set_title('Modes for Integer S')\n",
    "ax3.set_ylabel(r'$p(s)$')\n",
    "ax3.set_xlabel(r'$s$')\n",
    "ax3.legend()\n",
    "\n",
    "ax4.set_title(r'Values of integration of $P(s)$ for $0.7\\leq s\\leq 2.0$')\n",
    "ax4.set_xlim(np.min(integration_values), np.max(integration_values))\n",
    "ax4.set_ylim(-0.001,0.001)\n",
    "ax4.set_yticks([])\n",
    "ax4.legend()\n",
    "\n",
    "plt.rcParams.update({'font.size': 20})\n",
    "plt.show()"
   ]
  },
  {
   "cell_type": "code",
   "execution_count": null,
   "metadata": {},
   "outputs": [],
   "source": [
    "plt.figure()\n",
    "plt.scatter(integration_values, np.zeros_like(integration_values), c = params.T[0], cmap = 'bwr')\n",
    "\n",
    "plt.yticks([])\n",
    "plt.plot([], label='S=2', color=\"blue\")  \n",
    "plt.plot([], label=\"S=3\", color=\"red\")\n",
    "plt.title(r'Values of integration of $P(s)$ for $0.7\\leq s\\leq 2.0$')\n",
    "plt.legend()\n",
    "plt.show()"
   ]
  },
  {
   "cell_type": "markdown",
   "metadata": {},
   "source": [
    "# To do list:\n",
    "\n",
    "- SVM for mode, also try for skewness, kurtosis, mean, median etc.\n",
    "- Build CNN on Density field, increase number of points by increasing G in order to fill in the 2d histogram.\n",
    "- Investigate area under curve of cumulative distribution for s>0.7"
   ]
  }
 ],
 "metadata": {
  "kernelspec": {
   "display_name": "Python 3",
   "language": "python",
   "name": "python3"
  },
  "language_info": {
   "codemirror_mode": {
    "name": "ipython",
    "version": 3
   },
   "file_extension": ".py",
   "mimetype": "text/x-python",
   "name": "python",
   "nbconvert_exporter": "python",
   "pygments_lexer": "ipython3",
   "version": "3.7.1"
  }
 },
 "nbformat": 4,
 "nbformat_minor": 2
}
