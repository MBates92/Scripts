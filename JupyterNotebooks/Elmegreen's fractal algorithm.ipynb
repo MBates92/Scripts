{
 "cells": [
  {
   "cell_type": "code",
   "execution_count": 1,
   "metadata": {},
   "outputs": [],
   "source": [
    "import numpy as np\n",
    "import random\n",
    "import matplotlib.pyplot as plt\n",
    "import tqdm"
   ]
  },
  {
   "cell_type": "code",
   "execution_count": 2,
   "metadata": {},
   "outputs": [],
   "source": [
    "L=3\n",
    "N=2\n",
    "H=4"
   ]
  },
  {
   "cell_type": "code",
   "execution_count": 13,
   "metadata": {},
   "outputs": [],
   "source": [
    "def coord_func(x,L,h):\n",
    "    r = np.random.random()\n",
    "    print('r:',r)\n",
    "    return x + 2*(r-0.5)/L**h"
   ]
  },
  {
   "cell_type": "code",
   "execution_count": 15,
   "metadata": {},
   "outputs": [
    {
     "name": "stdout",
     "output_type": "stream",
     "text": [
      "r: 0.8487309390574734\n",
      "x: 0.7324872927049823\n",
      "r: 0.7315748147833355\n",
      "x: 0.7839483626568345\n",
      "r: 0.23258000331592332\n",
      "x: 0.7641394740135696\n",
      "r: 0.2600050282762464\n",
      "x: 0.7582136722426127\n"
     ]
    }
   ],
   "source": [
    "x_list = []\n",
    "x=0.5\n",
    "for h in range(1,H+1):\n",
    "    x_list.append(coord_func(x,L,h))\n",
    "    x = x_list[-1]\n",
    "    print('x:',x)"
   ]
  },
  {
   "cell_type": "code",
   "execution_count": null,
   "metadata": {},
   "outputs": [],
   "source": []
  }
 ],
 "metadata": {
  "kernelspec": {
   "display_name": "Python 3",
   "language": "python",
   "name": "python3"
  },
  "language_info": {
   "codemirror_mode": {
    "name": "ipython",
    "version": 3
   },
   "file_extension": ".py",
   "mimetype": "text/x-python",
   "name": "python",
   "nbconvert_exporter": "python",
   "pygments_lexer": "ipython3",
   "version": "3.6.3"
  }
 },
 "nbformat": 4,
 "nbformat_minor": 2
}
