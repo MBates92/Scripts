{
 "cells": [
  {
   "cell_type": "code",
   "execution_count": 1,
   "metadata": {},
   "outputs": [],
   "source": [
    "import numpy as np\n",
    "import matplotlib.pyplot as plt\n",
    "import os\n",
    "import cv2\n",
    "from tqdm import tqdm"
   ]
  },
  {
   "cell_type": "code",
   "execution_count": 2,
   "metadata": {},
   "outputs": [],
   "source": [
    "Type = 'Testing'"
   ]
  },
  {
   "cell_type": "code",
   "execution_count": 3,
   "metadata": {},
   "outputs": [],
   "source": [
    "DATADIR = 'C:/Users/C1764397/Workshop/PhD/Data/FractalClusters/{}/features'.format(Type)"
   ]
  },
  {
   "cell_type": "code",
   "execution_count": 4,
   "metadata": {},
   "outputs": [],
   "source": [
    "labels = np.loadtxt('C:/Users/C1764397/Workshop/PhD/Data/FractalClusters/{}/labels/labels.txt'.format(Type))"
   ]
  },
  {
   "cell_type": "code",
   "execution_count": 5,
   "metadata": {},
   "outputs": [
    {
     "name": "stderr",
     "output_type": "stream",
     "text": [
      "100%|█████████████████████████████████████████████████████████████████████████████| 2000/2000 [00:08<00:00, 230.05it/s]\n"
     ]
    },
    {
     "name": "stdout",
     "output_type": "stream",
     "text": [
      "2000\n"
     ]
    }
   ],
   "source": [
    "training_data = []\n",
    "c=0\n",
    "\n",
    "for img in tqdm(os.listdir(DATADIR)):\n",
    "    img_array = cv2.imread(os.path.join(DATADIR,img))\n",
    "    new_array = cv2.resize(img_array, (200,200))\n",
    "    training_data.append([new_array,labels[c]])\n",
    "    c+=1\n",
    "    \n",
    "print(len(training_data))\n",
    "    "
   ]
  },
  {
   "cell_type": "code",
   "execution_count": 6,
   "metadata": {},
   "outputs": [],
   "source": [
    "import random\n",
    "random.shuffle(training_data)"
   ]
  },
  {
   "cell_type": "code",
   "execution_count": 7,
   "metadata": {},
   "outputs": [
    {
     "name": "stdout",
     "output_type": "stream",
     "text": [
      "[   0.32623853    2.82868288  260.        ]\n",
      "[   0.5243048     1.90038763  293.        ]\n",
      "[  2.27697464e-02   1.31918214e+00   4.13000000e+02]\n",
      "[   0.25448646    2.91306142  104.        ]\n",
      "[   0.37035067    2.87656819  276.        ]\n",
      "[  3.85397631e-01   1.32011476e+00   4.33000000e+02]\n",
      "[  1.76291845e-01   9.45645197e-01   2.40000000e+02]\n",
      "[   0.55307925    2.32693511  223.        ]\n",
      "[   0.71123063    1.17527411  159.        ]\n",
      "[   0.52248081    0.3471627   283.        ]\n"
     ]
    }
   ],
   "source": [
    "for sample in training_data[:10]:\n",
    "    print(sample[1])"
   ]
  },
  {
   "cell_type": "code",
   "execution_count": 8,
   "metadata": {},
   "outputs": [
    {
     "name": "stdout",
     "output_type": "stream",
     "text": [
      "(2000, 200, 200, 3)\n"
     ]
    }
   ],
   "source": [
    "X=[]\n",
    "H=[]\n",
    "sigma=[]\n",
    "pop=[]\n",
    "\n",
    "for features,labels in training_data:\n",
    "    X.append(features)\n",
    "    H.append(labels[0])\n",
    "    sigma.append(labels[1])\n",
    "    pop.append(labels[2])\n",
    "    \n",
    "y=[H,sigma,pop]\n",
    "\n",
    "#print(X[0].reshape(-1, 200, 200, 3, 1))\n",
    "\n",
    "#print(y)\n",
    "\n",
    "\n",
    "X=np.array(X).reshape(-1,200,200,3)\n",
    "print(X.shape)"
   ]
  },
  {
   "cell_type": "code",
   "execution_count": 9,
   "metadata": {},
   "outputs": [],
   "source": [
    "import pickle\n",
    "\n",
    "pickle_out = open(\"C:/Users/C1764397/Workshop/PhD/Data/FractalClusters/{}/X_{}.pickle\".format(Type,Type),\"wb\")\n",
    "pickle.dump(X, pickle_out)\n",
    "pickle_out.close()\n",
    "\n",
    "pickle_out = open(\"C:/Users/C1764397/Workshop/PhD/Data/FractalClusters/{}/y_{}.pickle\".format(Type,Type),\"wb\")\n",
    "pickle.dump(y, pickle_out)\n",
    "pickle_out.close()"
   ]
  },
  {
   "cell_type": "code",
   "execution_count": null,
   "metadata": {},
   "outputs": [],
   "source": []
  }
 ],
 "metadata": {
  "kernelspec": {
   "display_name": "Python 3",
   "language": "python",
   "name": "python3"
  },
  "language_info": {
   "codemirror_mode": {
    "name": "ipython",
    "version": 3
   },
   "file_extension": ".py",
   "mimetype": "text/x-python",
   "name": "python",
   "nbconvert_exporter": "python",
   "pygments_lexer": "ipython3",
   "version": "3.6.3"
  }
 },
 "nbformat": 4,
 "nbformat_minor": 2
}
