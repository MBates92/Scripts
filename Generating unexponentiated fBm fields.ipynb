{
 "cells": [
  {
   "cell_type": "code",
   "execution_count": 7,
   "metadata": {},
   "outputs": [],
   "source": [
    "import numpy as np\n",
    "import matplotlib.pyplot as plt\n",
    "import SpectralSynthesis as ss\n",
    "from tqdm import tqdm"
   ]
  },
  {
   "cell_type": "markdown",
   "metadata": {},
   "source": [
    "No Noise"
   ]
  },
  {
   "cell_type": "code",
   "execution_count": 8,
   "metadata": {},
   "outputs": [],
   "source": [
    "H_min = 0.0\n",
    "H_max = 1.0"
   ]
  },
  {
   "cell_type": "code",
   "execution_count": 9,
   "metadata": {},
   "outputs": [
    {
     "data": {
      "image/png": "[encoded data removed]",
      "text/plain": [
       "<matplotlib.figure.Figure at 0x259a3522ba8>"
      ]
     },
     "metadata": {},
     "output_type": "display_data"
    }
   ],
   "source": [
    "N = 2000\n",
    "\n",
    "H_list = np.random.random(N)\n",
    "\n",
    "plt.figure()\n",
    "plt.hist(H_list,bins = 10)\n",
    "plt.show()"
   ]
  },
  {
   "cell_type": "code",
   "execution_count": 10,
   "metadata": {},
   "outputs": [
    {
     "data": {
      "image/png": "[encoded data removed]",
      "text/plain": [
       "<matplotlib.figure.Figure at 0x259a341a400>"
      ]
     },
     "metadata": {},
     "output_type": "display_data"
    }
   ],
   "source": [
    "N_p = 100\n",
    "E = 2\n",
    "noise_pct_list = np.random.random(N)*0.05\n",
    "\n",
    "plt.figure()\n",
    "plt.hist(noise_pct_list,bins = 10)\n",
    "plt.show()"
   ]
  },
  {
   "cell_type": "code",
   "execution_count": 11,
   "metadata": {
    "scrolled": true
   },
   "outputs": [
    {
     "name": "stderr",
     "output_type": "stream",
     "text": [
      "  0%|                                                                                         | 0/2000 [00:00<?, ?it/s]C:\\Users\\C1764397\\Workshop\\PhD\\Scripts\\SpectralSynthesis.py:58: RuntimeWarning: divide by zero encountered in power\n",
      "  rad = np.where(k>0.0,k**(-(beta*0.5)),0.0)\n",
      "100%|██████████████████████████████████████████████████████████████████████████████| 2000/2000 [04:22<00:00,  7.63it/s]\n"
     ]
    }
   ],
   "source": [
    "for i in tqdm(range(N)):\n",
    "    field = ss.fBm(E=E,exp=False,H=H_list[i],N=N_p*4)\n",
    "    noise = ss.fBm(E=E,exp=False, H = -1, N=N_p)\n",
    "    field = field[150:250,150:250]\n",
    "    \n",
    "    m_1_field = np.mean(field)\n",
    "    s_1_field = np.std(field)\n",
    "    m_2_field = 0\n",
    "    s_2_field = 1/4\n",
    "            \n",
    "    m_1_noise = np.mean(noise)\n",
    "    s_1_noise = np.std(noise)\n",
    "    m_2_noise = 0\n",
    "    s_2_noise = s_2_field*noise_pct_list[i]\n",
    "    \n",
    "    field *= s_2_field/s_1_field\n",
    "    field += (m_2_field-m_1_field*s_2_field/s_1_field)\n",
    "    \n",
    "    noise *= s_2_noise/s_1_noise\n",
    "    noise += (m_2_noise-m_1_noise*s_2_noise/s_1_noise)\n",
    "    \n",
    "    #field += noise\n",
    "    \n",
    "    #field[np.where(field>1.)] = 1.\n",
    "    #field[np.where(field<-1.)] = -1.\n",
    "    \n",
    "    np.savetxt('D:/UnexponentiatedNonPeriodic/features/field_'+format(i,'06d')+'.txt',field)"
   ]
  },
  {
   "cell_type": "code",
   "execution_count": 12,
   "metadata": {},
   "outputs": [],
   "source": [
    "np.savetxt('D:/UnexponentiatedNonPeriodic/labels/labels.txt', H_list)"
   ]
  },
  {
   "cell_type": "code",
   "execution_count": null,
   "metadata": {},
   "outputs": [],
   "source": []
  }
 ],
 "metadata": {
  "kernelspec": {
   "display_name": "Python 3",
   "language": "python",
   "name": "python3"
  },
  "language_info": {
   "codemirror_mode": {
    "name": "ipython",
    "version": 3
   },
   "file_extension": ".py",
   "mimetype": "text/x-python",
   "name": "python",
   "nbconvert_exporter": "python",
   "pygments_lexer": "ipython3",
   "version": "3.6.3"
  }
 },
 "nbformat": 4,
 "nbformat_minor": 2
}
