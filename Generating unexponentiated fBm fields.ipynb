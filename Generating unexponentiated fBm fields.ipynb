{
 "cells": [
  {
   "cell_type": "code",
   "execution_count": 30,
   "metadata": {},
   "outputs": [],
   "source": [
    "import numpy as np\n",
    "import matplotlib.pyplot as plt\n",
    "import SpectralSynthesis as ss"
   ]
  },
  {
   "cell_type": "code",
   "execution_count": 31,
   "metadata": {},
   "outputs": [],
   "source": [
    "H_min = 0.0\n",
    "H_max = 1.0"
   ]
  },
  {
   "cell_type": "code",
   "execution_count": 32,
   "metadata": {},
   "outputs": [
    {
     "data": {
      "image/png": "[encoded data removed]",
      "text/plain": [
       "<matplotlib.figure.Figure at 0x265a416db70>"
      ]
     },
     "metadata": {},
     "output_type": "display_data"
    }
   ],
   "source": [
    "N = 1000\n",
    "\n",
    "H_list = np.random.random(N)\n",
    "\n",
    "plt.figure()\n",
    "plt.hist(H_list,bins = 10)\n",
    "plt.show()"
   ]
  },
  {
   "cell_type": "code",
   "execution_count": 33,
   "metadata": {},
   "outputs": [],
   "source": [
    "N_p = 100\n",
    "E = 2"
   ]
  },
  {
   "cell_type": "code",
   "execution_count": 36,
   "metadata": {
    "scrolled": false
   },
   "outputs": [
    {
     "name": "stderr",
     "output_type": "stream",
     "text": [
      "C:\\Users\\C1764397\\Workshop\\PhD\\Scripts\\SpectralSynthesis.py:58: RuntimeWarning: divide by zero encountered in power\n",
      "  rad = np.where(k>0.0,k**(-(beta*0.5)),0.0)\n"
     ]
    },
    {
     "name": "stdout",
     "output_type": "stream",
     "text": [
      "0\n",
      "100\n",
      "200\n",
      "300\n",
      "400\n",
      "500\n",
      "600\n",
      "700\n",
      "800\n",
      "900\n"
     ]
    }
   ],
   "source": [
    "for i in range(N):\n",
    "    field = ss.fBm(E=E,exp=False,H=H_list[i],N=N_p)\n",
    "    field -= np.amin(field)\n",
    "    field /= np.amax(field)\n",
    "    field *= 255\n",
    "    field = field.astype(int)\n",
    "    np.savetxt('../Data/fBmFields/2DUnexponentiated/100px/Testing/features/field_'+format(i,'06d')+'.txt',field)\n",
    "    if i%100 == 0:\n",
    "        print(i)\n",
    "    \n",
    "np.savetxt('../Data/fBmFields/2DUnexponentiated/100px/Testing/labels/labels.txt', H_list)"
   ]
  },
  {
   "cell_type": "code",
   "execution_count": null,
   "metadata": {},
   "outputs": [],
   "source": []
  }
 ],
 "metadata": {
  "kernelspec": {
   "display_name": "Python 3",
   "language": "python",
   "name": "python3"
  },
  "language_info": {
   "codemirror_mode": {
    "name": "ipython",
    "version": 3
   },
   "file_extension": ".py",
   "mimetype": "text/x-python",
   "name": "python",
   "nbconvert_exporter": "python",
   "pygments_lexer": "ipython3",
   "version": "3.6.3"
  }
 },
 "nbformat": 4,
 "nbformat_minor": 2
}
